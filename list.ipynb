{
 "cells": [
  {
   "cell_type": "markdown",
   "metadata": {},
   "source": [
    "LIST\n",
    "\n",
    "- list is mutable (item add,remove)\n",
    "- list is heterogenous (mixed data can be stored)\n",
    "- list can have duplicate values\n",
    "- list is indexed (item have indexes and be sliced)\n",
    "- list uses [] brackets with value inside it seprated with commas"
   ]
  },
  {
   "cell_type": "markdown",
   "metadata": {},
   "source": [
    "what to learn\n",
    "\n",
    "- #### creating a list\n",
    "- #### indexing n slicing\n",
    "- #### traversal (looping)\n",
    "- #### function (11)\n",
    "- #### comprihension\n",
    "- #### lambda, map and filter"
   ]
  },
  {
   "cell_type": "code",
   "execution_count": 1,
   "metadata": {},
   "outputs": [],
   "source": [
    "# list of strings\n",
    "factors = [\"Kaladin\", \"Adolin\", 'Dalinar', 'Wit', 'Shallan', 'Navani']\n",
    "# list of numbers\n",
    "factors = [1,2,3,5,15,25,100]\n",
    "# mixed data list\n",
    "info = ['Ravi',90,102,93,29,44,\"8\",False,5,786]\n",
    "#nested list\n",
    "c2d = [[1,2,3],[3,4,5,7],[2,1]]\n",
    "\n",
    "# list from function\n",
    "fact = \"icecube sites in its own blood\"\n",
    "words = fact.split()"
   ]
  },
  {
   "cell_type": "code",
   "execution_count": 2,
   "metadata": {},
   "outputs": [
    {
     "name": "stdout",
     "output_type": "stream",
     "text": [
      "[1, 1, 1, 1, 1, 1, 1, 1, 1, 1]\n"
     ]
    }
   ],
   "source": [
    "# quick list hack with same value\n",
    "x = [1]*10\n",
    "print(x)"
   ]
  },
  {
   "cell_type": "code",
   "execution_count": 3,
   "metadata": {},
   "outputs": [
    {
     "name": "stdout",
     "output_type": "stream",
     "text": [
      "[10, '', 9, 100]\n"
     ]
    }
   ],
   "source": [
    "# list from variables\n",
    "a = 10\n",
    "b = ''\n",
    "c = 9\n",
    "x = 100\n",
    "l = [a,b,c,x]\n",
    "print(l)"
   ]
  },
  {
   "cell_type": "code",
   "execution_count": 4,
   "metadata": {},
   "outputs": [],
   "source": [
    "kharche = [] # empty list\n"
   ]
  },
  {
   "cell_type": "code",
   "execution_count": 5,
   "metadata": {},
   "outputs": [
    {
     "name": "stdout",
     "output_type": "stream",
     "text": [
      "[100]\n",
      "[100, 200]\n",
      "[100, 200, 300]\n"
     ]
    }
   ],
   "source": [
    "kharche.append(100)\n",
    "print(kharche)\n",
    "kharche.append(200)\n",
    "print(kharche)\n",
    "kharche.append(300)\n",
    "print(kharche)"
   ]
  },
  {
   "cell_type": "code",
   "execution_count": 6,
   "metadata": {},
   "outputs": [
    {
     "name": "stdout",
     "output_type": "stream",
     "text": [
      "['sabji ', 'chawal', 'roti']\n"
     ]
    }
   ],
   "source": [
    "fav_foods = []\n",
    "for i in range(3):\n",
    "    food = input(\"enter name of ur fav food=>\")\n",
    "    fav_foods.append(food)\n",
    "print(fav_foods)"
   ]
  },
  {
   "cell_type": "code",
   "execution_count": 10,
   "metadata": {},
   "outputs": [
    {
     "name": "stdout",
     "output_type": "stream",
     "text": [
      "[1, 2, 3, 4, 5, 6, 7, 8, 9, 10, 11, 12, 13, 14, 15, 16, 17, 18, 19, 20, 21, 22, 23, 24, 25, 26, 27, 28, 29, 30, 31, 32, 33, 34, 35, 36, 37, 38, 39, 40, 41, 42, 43, 44, 45, 46, 47, 48, 49, 50, 51, 52, 53, 54, 55, 56, 57, 58, 59, 60, 61, 62, 63, 64, 65, 66, 67, 68, 69, 70, 71, 72, 73, 74, 75, 76, 77, 78, 79, 80, 81, 82, 83, 84, 85, 86, 87, 88, 89, 90, 91, 92, 93, 94, 95, 96, 97, 98, 99, 100]\n"
     ]
    }
   ],
   "source": [
    "nums = []\n",
    "for i in range(1,101):\n",
    "    nums.append(i)\n",
    "print(nums)"
   ]
  },
  {
   "cell_type": "code",
   "execution_count": null,
   "metadata": {},
   "outputs": [],
   "source": []
  }
 ],
 "metadata": {
  "interpreter": {
   "hash": "3835b9ad7576081e253dd69f6e27ec7e1067bee4461adb44e2756f508db331d5"
  },
  "kernelspec": {
   "display_name": "Python 3.9.7",
   "language": "python",
   "name": "python3"
  },
  "language_info": {
   "codemirror_mode": {
    "name": "ipython",
    "version": 3
   },
   "file_extension": ".py",
   "mimetype": "text/x-python",
   "name": "python",
   "nbconvert_exporter": "python",
   "pygments_lexer": "ipython3",
   "version": "3.9.7"
  },
  "orig_nbformat": 4
 },
 "nbformat": 4,
 "nbformat_minor": 2
}
